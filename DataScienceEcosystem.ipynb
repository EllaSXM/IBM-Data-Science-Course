{
 "cells": [
  {
   "cell_type": "markdown",
   "id": "f62ec4ba",
   "metadata": {},
   "source": [
    "# H1 Data Science Tools and Ecosystem"
   ]
  },
  {
   "cell_type": "markdown",
   "id": "96ab53b9-4864-4ae6-8433-96c272d9ffb3",
   "metadata": {},
   "source": [
    "In this notebook, Data Science Tools and Ecosystem are summarized."
   ]
  },
  {
   "cell_type": "markdown",
   "id": "0fae110c-e868-44ff-baad-14053b1c9953",
   "metadata": {},
   "source": [
    "Some of the popular languages that Data Scientists use are:\n",
    "1. Python\n",
    "2. R\n",
    "3. Scala\n",
    "4. SQL\n",
    "5. Julia"
   ]
  },
  {
   "cell_type": "markdown",
   "id": "34a13943-1f0f-4168-aa37-9671c3b9ee74",
   "metadata": {},
   "source": [
    "Some of the commonly used libraries used by Data Scientists include:\n",
    "1. pandas\n",
    "2. numpy\n",
    "3. scitkit-learn\n",
    "4. ggplot2 (in R)"
   ]
  },
  {
   "cell_type": "markdown",
   "id": "2ac7d377-3294-4a40-a5ac-a04c030755f5",
   "metadata": {},
   "source": [
    "|Data Science Tools|\n",
    "|------------------|\n",
    "|Spyder|\n",
    "|R Studio|\n",
    "|Jupyter Lab|\n",
    "|PyCharm|"
   ]
  },
  {
   "cell_type": "markdown",
   "id": "59750601-d488-4e5d-8dd8-e1a670ad38d0",
   "metadata": {},
   "source": [
    "### H3 Below are a few examples of evaluating arithmetic expressions in Python."
   ]
  },
  {
   "cell_type": "code",
   "execution_count": 5,
   "id": "405d21a9-6a8b-48c8-bde3-5700c8c49350",
   "metadata": {},
   "outputs": [
    {
     "data": {
      "text/plain": [
       "17"
      ]
     },
     "execution_count": 5,
     "metadata": {},
     "output_type": "execute_result"
    }
   ],
   "source": [
    "#This is a simple arithmeitc expression to multiply then add integers.\n",
    "\n",
    "(3*4)+5"
   ]
  },
  {
   "cell_type": "code",
   "execution_count": 12,
   "id": "705efb32-f946-4ac8-adf0-8f21f6ed35cc",
   "metadata": {},
   "outputs": [
    {
     "name": "stdout",
     "output_type": "stream",
     "text": [
      "200 minutes if  3.3 hours.\n"
     ]
    }
   ],
   "source": [
    "#This will convert 200 minutes to hours by dividing by 60.\n",
    "200/60, 2\n",
    "print (f\"200 minutes if {hours: .1f} hours.\")"
   ]
  },
  {
   "cell_type": "markdown",
   "id": "4dd561bf-7ef0-4d83-9042-6e91d024ed8f",
   "metadata": {},
   "source": [
    "#### H4 Objectives\n",
    "* List popular languages for data science\n",
    "* Learn about data science tools\n",
    "* Learn basics of Juptyer, GitHub and RStudio"
   ]
  },
  {
   "cell_type": "markdown",
   "id": "07892d6f-2ee6-4847-a7ea-b36c0d8cf782",
   "metadata": {},
   "source": [
    "## H2 Author\n",
    "Ekta L."
   ]
  },
  {
   "cell_type": "code",
   "execution_count": null,
   "id": "ce2febfc-b695-45d2-b9f8-3bf0852fd609",
   "metadata": {},
   "outputs": [],
   "source": []
  }
 ],
 "metadata": {
  "kernelspec": {
   "display_name": "Python 3 (ipykernel)",
   "language": "python",
   "name": "python3"
  },
  "language_info": {
   "codemirror_mode": {
    "name": "ipython",
    "version": 3
   },
   "file_extension": ".py",
   "mimetype": "text/x-python",
   "name": "python",
   "nbconvert_exporter": "python",
   "pygments_lexer": "ipython3",
   "version": "3.9.18"
  }
 },
 "nbformat": 4,
 "nbformat_minor": 5
}
